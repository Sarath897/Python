{
 "cells": [
  {
   "cell_type": "code",
   "execution_count": 1,
   "metadata": {},
   "outputs": [],
   "source": [
    "#Print 'Correct' if i==10"
   ]
  },
  {
   "cell_type": "code",
   "execution_count": 2,
   "metadata": {},
   "outputs": [
    {
     "name": "stdout",
     "output_type": "stream",
     "text": [
      "Value :10\n",
      "Correct\n"
     ]
    }
   ],
   "source": [
    " value=int(input(\"Value :\"))\n",
    "if(value==10):\n",
    "    print(\"Correct\")"
   ]
  },
  {
   "cell_type": "code",
   "execution_count": 3,
   "metadata": {},
   "outputs": [],
   "source": [
    "#Password check by using if & Else"
   ]
  },
  {
   "cell_type": "code",
   "execution_count": 5,
   "metadata": {},
   "outputs": [
    {
     "name": "stdout",
     "output_type": "stream",
     "text": [
      "Enter the password :HOPE@123\n",
      "YOUR PASSWORD IS CORRECT\n"
     ]
    }
   ],
   "source": [
    "Password=input(\"Enter the password :\")\n",
    "if(Password==\"HOPE@123\"):\n",
    "    print(\"YOUR PASSWORD IS CORRECT\")\n",
    "else:\n",
    "    print(\"YOUR PASSWORT IS INCORRECT\")"
   ]
  },
  {
   "cell_type": "code",
   "execution_count": null,
   "metadata": {},
   "outputs": [],
   "source": []
  },
  {
   "cell_type": "code",
   "execution_count": null,
   "metadata": {},
   "outputs": [],
   "source": []
  },
  {
   "cell_type": "code",
   "execution_count": null,
   "metadata": {},
   "outputs": [],
   "source": []
  },
  {
   "cell_type": "code",
   "execution_count": null,
   "metadata": {},
   "outputs": [],
   "source": [
    "# Catagory the people by their age like children, adult, citizen, senior citizen..."
   ]
  },
  {
   "cell_type": "code",
   "execution_count": 6,
   "metadata": {},
   "outputs": [
    {
     "name": "stdout",
     "output_type": "stream",
     "text": [
      "Enter the Age: 20\n",
      "Adult\n"
     ]
    }
   ],
   "source": [
    "Age=int(input(\"Enter the Age: \"))\n",
    "if (Age<18):\n",
    "    print(\"Children\")\n",
    "elif (Age<35):\n",
    "    print(\"Adult\")\n",
    "elif (Age<59):\n",
    "    print(\"Citizen\")\n",
    "else:\n",
    "    print(\"Senior Citizen\")"
   ]
  },
  {
   "cell_type": "code",
   "execution_count": 7,
   "metadata": {},
   "outputs": [],
   "source": [
    "# Find whether given number is positive or negative"
   ]
  },
  {
   "cell_type": "code",
   "execution_count": 8,
   "metadata": {},
   "outputs": [
    {
     "name": "stdout",
     "output_type": "stream",
     "text": [
      "Enter the Number: 2\n",
      "2 is Positive\n"
     ]
    }
   ],
   "source": [
    "no=int(input(\"Enter the Number: \"))\n",
    "if (no<0):\n",
    "    print(no, \"is Negative\")\n",
    "elif (no==0):\n",
    "    print(no, \"is Netural\")\n",
    "else:\n",
    "    print(no, \"is Positive\")"
   ]
  },
  {
   "cell_type": "code",
   "execution_count": 9,
   "metadata": {},
   "outputs": [],
   "source": [
    "# Check whether the given number is divisible by 5"
   ]
  },
  {
   "cell_type": "code",
   "execution_count": 10,
   "metadata": {},
   "outputs": [
    {
     "name": "stdout",
     "output_type": "stream",
     "text": [
      "Enter the Number: 22\n",
      "No is not divisible by 5\n"
     ]
    }
   ],
   "source": [
    "no=int(input(\"Enter the Number: \"))\n",
    "Ans=(no/5)\n",
    "if(no%5):\n",
    "    print(\"No is not divisible by 5\" )\n",
    "else:\n",
    "    print(\"Yes,it's divisible by 5 &\",Ans)"
   ]
  },
  {
   "cell_type": "code",
   "execution_count": null,
   "metadata": {},
   "outputs": [],
   "source": []
  },
  {
   "cell_type": "code",
   "execution_count": null,
   "metadata": {},
   "outputs": [],
   "source": []
  }
 ],
 "metadata": {
  "kernelspec": {
   "display_name": "Python 3",
   "language": "python",
   "name": "python3"
  },
  "language_info": {
   "codemirror_mode": {
    "name": "ipython",
    "version": 3
   },
   "file_extension": ".py",
   "mimetype": "text/x-python",
   "name": "python",
   "nbconvert_exporter": "python",
   "pygments_lexer": "ipython3",
   "version": "3.7.4"
  }
 },
 "nbformat": 4,
 "nbformat_minor": 2
}
