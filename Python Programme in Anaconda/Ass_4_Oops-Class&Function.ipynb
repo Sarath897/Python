{
 "cells": [
  {
   "cell_type": "code",
   "execution_count": null,
   "metadata": {},
   "outputs": [],
   "source": [
    "# Creating a class and function, and list out the items in the list"
   ]
  },
  {
   "cell_type": "code",
   "execution_count": null,
   "metadata": {},
   "outputs": [],
   "source": [
    "class  SubfieldsInAI():\n",
    "    def subfields():\n",
    "        print(\"sub-firlds in AI are:\")\n",
    "        print(\"Machine Learning\")\n",
    "        SubfieldsInAI=\"Machine Learning\"\n",
    "        print(\"Neural Networks\")\n",
    "        SubfieldsInAI=\"Neural Networks\"\n",
    "        print(\"Vision\")\n",
    "        SubfieldsInAI=\"Vision\"\n",
    "        print(\"Robotics\")\n",
    "        SubfieldsInAI=\"Robotics\"\n",
    "        print(\"Speech Processing\")\n",
    "        SubfieldsInAI=\"Speech Processing\"\n",
    "        print(\"Natural Language Processing\")\n",
    "        SubfieldsInAI=\"Natural Language Processing\"\n",
    "    "
   ]
  },
  {
   "cell_type": "code",
   "execution_count": null,
   "metadata": {},
   "outputs": [],
   "source": [
    "SubfieldsInAI.subfields()"
   ]
  },
  {
   "cell_type": "code",
   "execution_count": null,
   "metadata": {},
   "outputs": [],
   "source": [
    "# Create a function that checks whether the given number is Odd or Even"
   ]
  },
  {
   "cell_type": "code",
   "execution_count": null,
   "metadata": {},
   "outputs": [],
   "source": [
    "class  oddeven():\n",
    "    def oddEven():\n",
    "        num=int(input(\"Enter the Number: \"))\n",
    "        if(num%2==1):\n",
    "            print(num, \"is ODD Number\")\n",
    "        else:\n",
    "            print(num,\"is EVEN Number\")"
   ]
  },
  {
   "cell_type": "code",
   "execution_count": null,
   "metadata": {},
   "outputs": [],
   "source": [
    "oddeven.oddEven()"
   ]
  },
  {
   "cell_type": "code",
   "execution_count": null,
   "metadata": {},
   "outputs": [],
   "source": [
    "#Create a function that tells elegibility of marriage for male and female according to their age limit like 21 for male and 18 for female"
   ]
  },
  {
   "cell_type": "code",
   "execution_count": 1,
   "metadata": {},
   "outputs": [
    {
     "name": "stdout",
     "output_type": "stream",
     "text": [
      "Enter your Name: sarath\n",
      "Enter your age: 22\n",
      "Enter your gender: male\n",
      "sarath is Eligible \n"
     ]
    }
   ],
   "source": [
    "class Marriage():\n",
    "    def __init__(self, gender, age):\n",
    "        self.age = age\n",
    "        self.gender = gender\n",
    "\n",
    "    def eligible_for_marriage(self):\n",
    "        if self.gender.lower() == 'male':\n",
    "            return self.age >= 21\n",
    "        elif self.gender.lower() == 'female':\n",
    "            return self.age >= 18\n",
    "        else:\n",
    "            return elig\n",
    "        \n",
    "        \n",
    "Name = input(\"Enter your Name: \")     #optional\n",
    "age = int(input(\"Enter your age: \"))\n",
    "gender = input(\"Enter your gender: \")\n",
    "\n",
    "Marriage = Marriage(gender, age)\n",
    "\n",
    "if Marriage.eligible_for_marriage():\n",
    "    print(Name,\"is Eligible \")\n",
    "else:\n",
    "    print(Name,\"is Not Eligible \")\n"
   ]
  },
  {
   "cell_type": "code",
   "execution_count": null,
   "metadata": {},
   "outputs": [],
   "source": [
    "# calculate the percentage of your 10th mark\n"
   ]
  },
  {
   "cell_type": "code",
   "execution_count": null,
   "metadata": {},
   "outputs": [],
   "source": [
    "class FindPercent():\n",
    "    def percentage():\n",
    "        sub1=int(input(\"subject1=\"))\n",
    "        sub2=int(input(\"subject2=\"))\n",
    "        sub3=int(input(\"subject3=\"))\n",
    "        sub4=int(input(\"subject4=\"))\n",
    "        sub5=int(input(\"subject5=\"))\n",
    "        total=sub1+sub2+sub3+sub4+sub5\n",
    "        print(\"total:\",total)\n",
    "        print(\"Percentage\",total/5,\"%\")"
   ]
  },
  {
   "cell_type": "code",
   "execution_count": null,
   "metadata": {},
   "outputs": [],
   "source": [
    "FindPercent.percentage()"
   ]
  },
  {
   "cell_type": "code",
   "execution_count": null,
   "metadata": {},
   "outputs": [],
   "source": [
    "#print area and perimeter of triangle using class and functions"
   ]
  },
  {
   "cell_type": "code",
   "execution_count": null,
   "metadata": {},
   "outputs": [],
   "source": [
    " class triangle():\n",
    "    def triangle():\n",
    "        Height=int(input(\"Height:\"))\n",
    "        breadth=int(input(\"Breadth:\"))\n",
    "        area=float((Height*breadth)/2)\n",
    "        print(\"Area formula: (Height*Breadth)/2\")\n",
    "        print(\"∴ Area =\",area)\n",
    "\n",
    "        h1=int(input(\" height1:\"))\n",
    "        h2=int(input(\" height2:\"))\n",
    "        b1=int(input(\" breadth:\"))\n",
    "        perimeter=h1+h2+b1\n",
    "        print(\"∴ Perimeter of triangle =\",perimeter)"
   ]
  },
  {
   "cell_type": "code",
   "execution_count": 3,
   "metadata": {},
   "outputs": [
    {
     "name": "stdout",
     "output_type": "stream",
     "text": [
      "Height:32\n",
      "Breadth:34\n",
      "Area formula: (Height*Breadth)/2\n",
      "∴ Area= 544.0\n",
      "height1:2\n",
      "height2:4\n",
      "breadth:4\n",
      "∴ Perimeter of triangle= 10\n"
     ]
    }
   ],
   "source": [
    "triangle.triangle()"
   ]
  },
  {
   "cell_type": "code",
   "execution_count": null,
   "metadata": {},
   "outputs": [],
   "source": []
  }
 ],
 "metadata": {
  "kernelspec": {
   "display_name": "Python 3",
   "language": "python",
   "name": "python3"
  },
  "language_info": {
   "codemirror_mode": {
    "name": "ipython",
    "version": 3
   },
   "file_extension": ".py",
   "mimetype": "text/x-python",
   "name": "python",
   "nbconvert_exporter": "python",
   "pygments_lexer": "ipython3",
   "version": "3.7.4"
  }
 },
 "nbformat": 4,
 "nbformat_minor": 2
}
