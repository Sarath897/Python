{
 "cells": [
  {
   "cell_type": "code",
   "execution_count": null,
   "metadata": {},
   "outputs": [],
   "source": [
    "List=[23,45,56,67,34]"
   ]
  },
  {
   "cell_type": "code",
   "execution_count": null,
   "metadata": {},
   "outputs": [],
   "source": [
    "def Age():\n",
    "    for Age in List :\n",
    "        if(Age<18):\n",
    "            print(\"Children\")\n",
    "        elif (Age<35):\n",
    "            print(\"Adult\")\n",
    "        elif (Age<59):\n",
    "            print(\"Citizen\")\n",
    "        else:\n",
    "            print(\"Senior Citizen\")"
   ]
  },
  {
   "cell_type": "code",
   "execution_count": 3,
   "metadata": {},
   "outputs": [
    {
     "name": "stdout",
     "output_type": "stream",
     "text": [
      "Adult\n",
      "Citizen\n",
      "Citizen\n",
      "Senior Citizen\n",
      "Adult\n"
     ]
    }
   ],
   "source": [
    "Age()"
   ]
  },
  {
   "cell_type": "code",
   "execution_count": null,
   "metadata": {},
   "outputs": [],
   "source": [
    "#With return"
   ]
  },
  {
   "cell_type": "code",
   "execution_count": 36,
   "metadata": {},
   "outputs": [],
   "source": [
    "def Ageca():\n",
    "    if   (Age<18):\n",
    "            print(\"Children\")\n",
    "            cate=\"Children\"\n",
    "    elif (Age<35):\n",
    "            print(\"Adult\")\n",
    "            cate='Adult'\n",
    "    elif (Age<59):\n",
    "            print(\"Citizen\")\n",
    "            cate=\"Citizen\"\n",
    "    else:\n",
    "            print(\"Senior Citizen\")\n",
    "            cate=\"Senior Citizen\"\n",
    "    return cate \n",
    "       "
   ]
  },
  {
   "cell_type": "code",
   "execution_count": 37,
   "metadata": {},
   "outputs": [
    {
     "name": "stdout",
     "output_type": "stream",
     "text": [
      "Enter the Age: 34\n",
      "Adult\n"
     ]
    }
   ],
   "source": [
    "Age=int(input(\"Enter the Age: \"))\n",
    "agecat=Ageca()"
   ]
  },
  {
   "cell_type": "code",
   "execution_count": null,
   "metadata": {},
   "outputs": [],
   "source": [
    "#without Return"
   ]
  },
  {
   "cell_type": "code",
   "execution_count": 2,
   "metadata": {},
   "outputs": [],
   "source": [
    "def Agecano():\n",
    "    if   (Age<18):\n",
    "            print(\"Children\")\n",
    "            cate=\"Children\"\n",
    "    elif (Age<35):\n",
    "            print(\"Adult\")\n",
    "            cate='Adult'\n",
    "    elif (Age<59):\n",
    "            print(\"Citizen\")\n",
    "            cate=\"Citizen\"\n",
    "    else:\n",
    "            print(\"Senior Citizen\")\n",
    "            cate=\"Senior Citizen\""
   ]
  },
  {
   "cell_type": "code",
   "execution_count": 3,
   "metadata": {},
   "outputs": [
    {
     "name": "stdout",
     "output_type": "stream",
     "text": [
      "Enter the Age: 34\n",
      "Adult\n"
     ]
    }
   ],
   "source": [
    "Age=int(input(\"Enter the Age: \"))\n",
    "agecat=Agecano()"
   ]
  },
  {
   "cell_type": "code",
   "execution_count": 6,
   "metadata": {},
   "outputs": [
    {
     "name": "stdout",
     "output_type": "stream",
     "text": [
      "Enter the Age: 23\n",
      "Adult\n"
     ]
    }
   ],
   "source": [
    "Age=int(input(\"Enter the Age: \"))\n",
    "agecat1=Agecano()"
   ]
  },
  {
   "cell_type": "code",
   "execution_count": 7,
   "metadata": {},
   "outputs": [
    {
     "name": "stdout",
     "output_type": "stream",
     "text": [
      "Enter the Age: 99\n",
      "Senior Citizen\n"
     ]
    }
   ],
   "source": [
    "Age=int(input(\"Enter the Age: \"))\n",
    "agecat2=Agecano()"
   ]
  },
  {
   "cell_type": "code",
   "execution_count": 9,
   "metadata": {},
   "outputs": [
    {
     "name": "stdout",
     "output_type": "stream",
     "text": [
      "Enter the Age: 87\n",
      "Senior Citizen\n"
     ]
    }
   ],
   "source": [
    "Age=int(input(\"Enter the Age: \"))\n",
    "agecat3=Agecano()"
   ]
  },
  {
   "cell_type": "code",
   "execution_count": 82,
   "metadata": {},
   "outputs": [],
   "source": [
    "def oddeven():\n",
    "    num=int(input(\"Enter the Number: \"))\n",
    "    if(num%2==1):\n",
    "        print(\"ODD Number\")  \n",
    "        number=\"ODD Number\"\n",
    "    else:\n",
    "        print(\"EVEN Number\")\n",
    "        number=\"EVEN Number\"\n",
    "    return number"
   ]
  },
  {
   "cell_type": "code",
   "execution_count": 83,
   "metadata": {},
   "outputs": [
    {
     "name": "stdout",
     "output_type": "stream",
     "text": [
      "Enter the Number: 44\n",
      "EVEN Number\n"
     ]
    }
   ],
   "source": [
    "number=oddeven()"
   ]
  },
  {
   "cell_type": "code",
   "execution_count": 84,
   "metadata": {},
   "outputs": [
    {
     "name": "stdout",
     "output_type": "stream",
     "text": [
      "given is odd\n"
     ]
    }
   ],
   "source": [
    "if (number==\"EVEN number\"):\n",
    "    print(\"given is even\")\n",
    "else:\n",
    "    print(\"given is odd\")"
   ]
  },
  {
   "cell_type": "code",
   "execution_count": 79,
   "metadata": {},
   "outputs": [],
   "source": [
    "def oddeven():\n",
    "    num=int(input(\"Enter the Number: \"))\n",
    "    if(num%2==1):\n",
    "        print(\"ODD Number\")  \n",
    "        number=\"ODD Number\"\n",
    "    else:\n",
    "        print(\"EVEN Number\")\n",
    "        number=\"EVEN Number\"\n",
    "    return number"
   ]
  },
  {
   "cell_type": "code",
   "execution_count": 80,
   "metadata": {},
   "outputs": [
    {
     "name": "stdout",
     "output_type": "stream",
     "text": [
      "Enter the Number: 44\n",
      "EVEN Number\n"
     ]
    }
   ],
   "source": [
    "number=oddeven()"
   ]
  },
  {
   "cell_type": "code",
   "execution_count": 81,
   "metadata": {},
   "outputs": [
    {
     "name": "stdout",
     "output_type": "stream",
     "text": [
      "even num\n"
     ]
    }
   ],
   "source": [
    "if (number==\"EVEN Number\"):\n",
    "    print(\"even num\")\n",
    "else:\n",
    "    print(\"odd num\")"
   ]
  },
  {
   "cell_type": "code",
   "execution_count": 30,
   "metadata": {},
   "outputs": [],
   "source": [
    "def BMI():\n",
    "    BMI=int(input(\"Enter the BMI Index: \"))\n",
    "    if (BMI<18.5):\n",
    "        print(\"Under Weight\")\n",
    "        bmi=\"Under Weight\"\n",
    "    elif (BMI<24.9):\n",
    "        print(\"Normal Range\")\n",
    "        bmi=\"Normal Weight\"\n",
    "    elif (BMI<29.9):\n",
    "        print(\"Over Weight\")\n",
    "        bmi=\"Over Weight\"\n",
    "    else:\n",
    "        print(\"Very Over Weight\")\n",
    "        bmi=\"Very over Weight\"\n",
    "    return bmi"
   ]
  },
  {
   "cell_type": "code",
   "execution_count": 34,
   "metadata": {},
   "outputs": [
    {
     "name": "stdout",
     "output_type": "stream",
     "text": [
      "Enter the BMI Index: 4\n",
      "Under Weight\n"
     ]
    }
   ],
   "source": [
    "bmis=BMI()"
   ]
  },
  {
   "cell_type": "code",
   "execution_count": 35,
   "metadata": {},
   "outputs": [
    {
     "data": {
      "text/plain": [
       "'Under Weight'"
      ]
     },
     "execution_count": 35,
     "metadata": {},
     "output_type": "execute_result"
    }
   ],
   "source": [
    "bmis"
   ]
  },
  {
   "cell_type": "code",
   "execution_count": 37,
   "metadata": {},
   "outputs": [],
   "source": [
    "def addition(num1,num2):\n",
    "    add=num1+num2\n",
    "    print(add)"
   ]
  },
  {
   "cell_type": "code",
   "execution_count": 38,
   "metadata": {},
   "outputs": [
    {
     "name": "stdout",
     "output_type": "stream",
     "text": [
      "46\n"
     ]
    }
   ],
   "source": [
    "addition(2,44)"
   ]
  },
  {
   "cell_type": "code",
   "execution_count": null,
   "metadata": {},
   "outputs": [],
   "source": [
    "class multiplefunction\n",
    "    def oddeven():\n",
    "    num=int(input(\"Enter the Number: \"))\n",
    "    if(num%2==1):\n",
    "        print(\"ODD Number\")  \n",
    "        number=\"ODD Number\"\n",
    "    else:\n",
    "        print(\"EVEN Number\")\n",
    "        number=\"EVEN Number\"\n",
    "    return number\n",
    "\n",
    "    def BMI():\n",
    "        BMI=int(input(\"Enter the BMI Index: \"))\n",
    "        if (BMI<18.5):\n",
    "            print(\"Under Weight\")\n",
    "            bmi=\"Under Weight\"\n",
    "        elif (BMI<24.9):\n",
    "            print(\"Normal Range\")\n",
    "            bmi=\"Normal Weight\"\n",
    "        elif (BMI<29.9):\n",
    "            print(\"Over Weight\")\n",
    "            bmi=\"Over Weight\"\n",
    "        else:\n",
    "            print(\"Very Over Weight\")\n",
    "            bmi=\"Very over Weight\"\n",
    "        return bmi"
   ]
  }
 ],
 "metadata": {
  "kernelspec": {
   "display_name": "Python 3",
   "language": "python",
   "name": "python3"
  },
  "language_info": {
   "codemirror_mode": {
    "name": "ipython",
    "version": 3
   },
   "file_extension": ".py",
   "mimetype": "text/x-python",
   "name": "python",
   "nbconvert_exporter": "python",
   "pygments_lexer": "ipython3",
   "version": "3.7.4"
  }
 },
 "nbformat": 4,
 "nbformat_minor": 2
}
