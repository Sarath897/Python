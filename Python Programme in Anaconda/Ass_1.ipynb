{
 "cells": [
  {
   "cell_type": "code",
   "execution_count": 1,
   "metadata": {},
   "outputs": [],
   "source": [
    "#Print statement"
   ]
  },
  {
   "cell_type": "code",
   "execution_count": 2,
   "metadata": {},
   "outputs": [
    {
     "name": "stdout",
     "output_type": "stream",
     "text": [
      "HOPE AI\n"
     ]
    }
   ],
   "source": [
    "print(\"HOPE AI\")"
   ]
  },
  {
   "cell_type": "code",
   "execution_count": 3,
   "metadata": {},
   "outputs": [],
   "source": [
    "#Print statement"
   ]
  },
  {
   "cell_type": "code",
   "execution_count": 4,
   "metadata": {},
   "outputs": [
    {
     "name": "stdout",
     "output_type": "stream",
     "text": [
      "Enter name of the institute : HOPE AI\n"
     ]
    }
   ],
   "source": [
    "name=input(\"Enter name of the institute : \")"
   ]
  },
  {
   "cell_type": "code",
   "execution_count": 5,
   "metadata": {},
   "outputs": [],
   "source": [
    "#Buy Inputs"
   ]
  },
  {
   "cell_type": "code",
   "execution_count": 6,
   "metadata": {},
   "outputs": [
    {
     "name": "stdout",
     "output_type": "stream",
     "text": [
      "Enter Your Name : Sarath Kumar\n",
      "Enter Your School Name : TVHS School\n",
      "Enter Your Degree : BE-Mechanical\n",
      "Enter Your Age : 30\n"
     ]
    }
   ],
   "source": [
    "name=input(\"Enter Your Name : \")\n",
    "school=input(\"Enter Your School Name : \")\n",
    "degree=input(\"Enter Your Degree : \")\n",
    "age=int(input(\"Enter Your Age : \"))"
   ]
  },
  {
   "cell_type": "code",
   "execution_count": 7,
   "metadata": {},
   "outputs": [],
   "source": [
    "#Addition,subraction,Multiplcation & Division"
   ]
  },
  {
   "cell_type": "code",
   "execution_count": 9,
   "metadata": {},
   "outputs": [
    {
     "name": "stdout",
     "output_type": "stream",
     "text": [
      "a =  43\n",
      "b =  34\n",
      "Add =  77\n",
      "Sub =  9\n",
      "Float Division =  1.2647058823529411\n"
     ]
    }
   ],
   "source": [
    "a=43\n",
    "b=34\n",
    "Add=a+b\n",
    "Sub=a-b\n",
    "Mul=a*b\n",
    "Division=a/b\n",
    "print(\"a = \", a)\n",
    "print(\"b = \", b)\n",
    "print(\"Add = \", Add)\n",
    "print(\"Sub = \", Sub)\n",
    "print(\"Float Division = \", Division)"
   ]
  },
  {
   "cell_type": "code",
   "execution_count": 10,
   "metadata": {},
   "outputs": [],
   "source": [
    "#Floor Division, Modulo & Power"
   ]
  },
  {
   "cell_type": "code",
   "execution_count": 15,
   "metadata": {},
   "outputs": [
    {
     "name": "stdout",
     "output_type": "stream",
     "text": [
      "a =  76\n",
      "b =  31\n",
      "Floor Div =  2\n",
      "Power =  20193953909944105208731682060580064457051617930320938008576\n"
     ]
    }
   ],
   "source": [
    "a=76\n",
    "b=31\n",
    "FloorDivision=a//b\n",
    "Modulo=a%b\n",
    "Power=a**b\n",
    "print(\"a = \", a)\n",
    "print(\"b = \", b)\n",
    "print(\"Floor Div = \", FloorDivision)\n",
    "print(\"Power = \",Power)"
   ]
  },
  {
   "cell_type": "code",
   "execution_count": null,
   "metadata": {},
   "outputs": [],
   "source": []
  }
 ],
 "metadata": {
  "kernelspec": {
   "display_name": "Python 3",
   "language": "python",
   "name": "python3"
  },
  "language_info": {
   "codemirror_mode": {
    "name": "ipython",
    "version": 3
   },
   "file_extension": ".py",
   "mimetype": "text/x-python",
   "name": "python",
   "nbconvert_exporter": "python",
   "pygments_lexer": "ipython3",
   "version": "3.7.4"
  }
 },
 "nbformat": 4,
 "nbformat_minor": 2
}
